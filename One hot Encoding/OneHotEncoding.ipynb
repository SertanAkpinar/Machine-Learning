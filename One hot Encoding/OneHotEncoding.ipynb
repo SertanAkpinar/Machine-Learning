{
 "cells": [
  {
   "cell_type": "code",
   "execution_count": 1,
   "metadata": {},
   "outputs": [],
   "source": [
    "import numpy as np"
   ]
  },
  {
   "cell_type": "code",
   "execution_count": 2,
   "metadata": {},
   "outputs": [],
   "source": [
    "data = ['blue', 'yellow', 'blue', 'green', 'red', 'yellow']"
   ]
  },
  {
   "cell_type": "code",
   "execution_count": 3,
   "metadata": {},
   "outputs": [],
   "source": [
    "def one_hot_encoding(string_list):\n",
    "    '''\n",
    "    The first dublicate will be deleted\n",
    "    [A, B, C, A] -> the first A will be deleted. new array is [B, C, A]\n",
    "    '''\n",
    "    unique_data = np.unique(string_list)\n",
    "\n",
    "    '''\n",
    "    creates a Matrix with zeros:\n",
    "    - rows: length of original list (string_list)\n",
    "    - columns: length of in our case unique_data\n",
    "    '''\n",
    "    one_hot_result = np.zeros((len(string_list), len(unique_data)))\n",
    "\n",
    "    '''\n",
    "    iterate through string_list\n",
    "    i is the indices \n",
    "    all_types is the data from the array data that means either blue/green/etc.\n",
    "    class_index finds out which indices all_types has in unique_data\n",
    "    one_hot_result changes the 0 to a 1 in the array with the information from i and class_index\n",
    "    '''\n",
    "    for i, all_types in enumerate(string_list):\n",
    "      class_index = np.where(all_types == unique_data)\n",
    "      one_hot_result[i, class_index] = 1.0\n",
    "\n",
    "    return one_hot_result"
   ]
  },
  {
   "cell_type": "code",
   "execution_count": 5,
   "metadata": {},
   "outputs": [
    {
     "data": {
      "text/plain": [
       "array([[1., 0., 0., 0.],\n",
       "       [0., 0., 0., 1.],\n",
       "       [1., 0., 0., 0.],\n",
       "       [0., 1., 0., 0.],\n",
       "       [0., 0., 1., 0.],\n",
       "       [0., 0., 0., 1.]])"
      ]
     },
     "execution_count": 5,
     "metadata": {},
     "output_type": "execute_result"
    }
   ],
   "source": [
    "one_hot_encoding(data)"
   ]
  }
 ],
 "metadata": {
  "kernelspec": {
   "display_name": "Python 3",
   "language": "python",
   "name": "python3"
  },
  "language_info": {
   "codemirror_mode": {
    "name": "ipython",
    "version": 3
   },
   "file_extension": ".py",
   "mimetype": "text/x-python",
   "name": "python",
   "nbconvert_exporter": "python",
   "pygments_lexer": "ipython3",
   "version": "3.11.5"
  }
 },
 "nbformat": 4,
 "nbformat_minor": 2
}
