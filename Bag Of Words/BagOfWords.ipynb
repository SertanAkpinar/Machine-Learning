{
 "cells": [
  {
   "cell_type": "code",
   "execution_count": 2,
   "metadata": {},
   "outputs": [],
   "source": [
    "from sklearn.feature_extraction.text import CountVectorizer"
   ]
  },
  {
   "cell_type": "code",
   "execution_count": 4,
   "metadata": {},
   "outputs": [
    {
     "name": "stdout",
     "output_type": "stream",
     "text": [
      "Feature-Namen: ['an' 'another' 'bag' 'example' 'exmaple' 'for' 'is' 'method' 'of' 'shows'\n",
      " 'the' 'this' 'word' 'words']\n",
      "Bag of Words:\n",
      " [[1 0 0 1 0 0 1 0 0 0 0 1 0 0]\n",
      " [0 1 0 1 0 0 1 0 0 0 0 1 0 0]\n",
      " [0 0 1 1 0 0 0 1 1 1 1 1 0 1]\n",
      " [0 1 1 0 1 1 0 0 1 0 0 0 0 1]\n",
      " [0 0 1 0 0 1 0 0 1 0 0 0 2 1]]\n"
     ]
    }
   ],
   "source": [
    "text = [\n",
    "    'This is an example.',\n",
    "    'This is another example.',\n",
    "    'This example shows the Bag of Words method.',\n",
    "    'Another exmaple for Bag of Words.',\n",
    "    'Word for word Bag of Words'\n",
    "]\n",
    "\n",
    "vectorizer = CountVectorizer()\n",
    "X = vectorizer.fit_transform(text)\n",
    "\n",
    "print(\"Feature-Namen:\", vectorizer.get_feature_names_out())\n",
    "print(\"Bag of Words:\\n\", X.toarray())\n"
   ]
  },
  {
   "cell_type": "markdown",
   "metadata": {},
   "source": [
    "We first initialize the Vectorizer\n",
    "\n",
    "After that we transform the Text to a Bag of Words\n",
    "\n",
    "we Print all the words from the text and tha Bag of Words"
   ]
  }
 ],
 "metadata": {
  "kernelspec": {
   "display_name": "Python 3",
   "language": "python",
   "name": "python3"
  },
  "language_info": {
   "codemirror_mode": {
    "name": "ipython",
    "version": 3
   },
   "file_extension": ".py",
   "mimetype": "text/x-python",
   "name": "python",
   "nbconvert_exporter": "python",
   "pygments_lexer": "ipython3",
   "version": "3.11.5"
  }
 },
 "nbformat": 4,
 "nbformat_minor": 2
}
